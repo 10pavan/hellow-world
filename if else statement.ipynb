{
 "cells": [
  {
   "cell_type": "markdown",
   "id": "295ef242",
   "metadata": {},
   "source": [
    "condition statement allow a program to execute different code blocks based on whether a specified condition is true or false. They enable developers to create branching logic in their code, making applications more flexible and capable of handling various scenarios"
   ]
  },
  {
   "cell_type": "code",
   "execution_count": 1,
   "id": "b216b6af",
   "metadata": {},
   "outputs": [
    {
     "name": "stdout",
     "output_type": "stream",
     "text": [
      "You can vote\n"
     ]
    }
   ],
   "source": [
    "age = 20\n",
    "if age >= 18:\n",
    "    print(\"You can vote\")\n",
    "elif age >= 16:\n",
    "    print(\"You can't vote, but you can drive\")\n",
    "else:\n",
    "    print(\"You can't vote or drive\")"
   ]
  }
 ],
 "metadata": {
  "kernelspec": {
   "display_name": "lenovobot",
   "language": "python",
   "name": "python3"
  },
  "language_info": {
   "codemirror_mode": {
    "name": "ipython",
    "version": 3
   },
   "file_extension": ".py",
   "mimetype": "text/x-python",
   "name": "python",
   "nbconvert_exporter": "python",
   "pygments_lexer": "ipython3",
   "version": "3.10.18"
  }
 },
 "nbformat": 4,
 "nbformat_minor": 5
}
