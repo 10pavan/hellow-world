{
 "cells": [
  {
   "cell_type": "markdown",
   "id": "ec92487f",
   "metadata": {},
   "source": [
    "List is a collection of objects \n",
    "it is Mutable (you can change items)\n"
   ]
  },
  {
   "cell_type": "markdown",
   "id": "1351859a",
   "metadata": {},
   "source": []
  },
  {
   "cell_type": "code",
   "execution_count": 1,
   "id": "d4e14c99",
   "metadata": {},
   "outputs": [],
   "source": [
    "my_list = [10, 20, 30, 40]\n"
   ]
  },
  {
   "cell_type": "code",
   "execution_count": 3,
   "id": "bbbf287b",
   "metadata": {},
   "outputs": [
    {
     "name": "stdout",
     "output_type": "stream",
     "text": [
      "apple\n"
     ]
    }
   ],
   "source": [
    "fruits = [\"apple\", \"banana\", \"cherry\"]\n",
    "print(fruits[0])  "
   ]
  },
  {
   "cell_type": "code",
   "execution_count": 5,
   "id": "45fbbad9",
   "metadata": {},
   "outputs": [],
   "source": [
    "# Create a list\n",
    "numbers = [1, 2, 3, 4, 5]"
   ]
  },
  {
   "cell_type": "code",
   "execution_count": 6,
   "id": "cfc13e1a",
   "metadata": {},
   "outputs": [],
   "source": [
    "# Add an element\n",
    "numbers.append(6)"
   ]
  },
  {
   "cell_type": "code",
   "execution_count": 7,
   "id": "90797006",
   "metadata": {},
   "outputs": [
    {
     "data": {
      "text/plain": [
       "[1, 2, 3, 4, 5, 6]"
      ]
     },
     "execution_count": 7,
     "metadata": {},
     "output_type": "execute_result"
    }
   ],
   "source": [
    "numbers"
   ]
  },
  {
   "cell_type": "code",
   "execution_count": 8,
   "id": "bcb66c0e",
   "metadata": {},
   "outputs": [],
   "source": [
    "# Remove an element\n",
    "numbers.remove(3)"
   ]
  },
  {
   "cell_type": "code",
   "execution_count": 9,
   "id": "daf1ca28",
   "metadata": {},
   "outputs": [
    {
     "name": "stdout",
     "output_type": "stream",
     "text": [
      "2\n"
     ]
    }
   ],
   "source": [
    "# Access elements by index\n",
    "print(numbers[1])  "
   ]
  },
  {
   "cell_type": "code",
   "execution_count": 10,
   "id": "6f4aae66",
   "metadata": {},
   "outputs": [
    {
     "name": "stdout",
     "output_type": "stream",
     "text": [
      "1\n",
      "2\n",
      "4\n",
      "5\n",
      "6\n"
     ]
    }
   ],
   "source": [
    "# Loop through list\n",
    "for num in numbers:\n",
    "    print(num)"
   ]
  },
  {
   "cell_type": "code",
   "execution_count": 11,
   "id": "743ffc27",
   "metadata": {},
   "outputs": [
    {
     "name": "stdout",
     "output_type": "stream",
     "text": [
      "5\n"
     ]
    }
   ],
   "source": [
    "# Get length\n",
    "print(len(numbers))  "
   ]
  },
  {
   "cell_type": "code",
   "execution_count": 12,
   "id": "42db4921",
   "metadata": {},
   "outputs": [
    {
     "name": "stdout",
     "output_type": "stream",
     "text": [
      "[2, 4]\n"
     ]
    }
   ],
   "source": [
    "# Slicing\n",
    "print(numbers[1:3])  "
   ]
  },
  {
   "cell_type": "markdown",
   "id": "ed104de1",
   "metadata": {},
   "source": [
    " Lists Can Store Mixed Data Types"
   ]
  },
  {
   "cell_type": "code",
   "execution_count": 13,
   "id": "4c8ce12a",
   "metadata": {},
   "outputs": [
    {
     "name": "stdout",
     "output_type": "stream",
     "text": [
      "[1, 2]\n"
     ]
    }
   ],
   "source": [
    "mixed = [10, \"hello\", 3.14, [1, 2]]\n",
    "print(mixed[3])  "
   ]
  },
  {
   "cell_type": "markdown",
   "id": "e8717fbe",
   "metadata": {},
   "source": [
    "Explain list comprehension."
   ]
  },
  {
   "cell_type": "code",
   "execution_count": 15,
   "id": "63e79d9f",
   "metadata": {},
   "outputs": [],
   "source": [
    "squares = [x*x for x in range(5)]  "
   ]
  },
  {
   "cell_type": "code",
   "execution_count": 16,
   "id": "02628e6a",
   "metadata": {},
   "outputs": [
    {
     "data": {
      "text/plain": [
       "[0, 1, 4, 9, 16]"
      ]
     },
     "execution_count": 16,
     "metadata": {},
     "output_type": "execute_result"
    }
   ],
   "source": [
    "squares"
   ]
  },
  {
   "cell_type": "markdown",
   "id": "71f1c61e",
   "metadata": {},
   "source": [
    "pop"
   ]
  },
  {
   "cell_type": "code",
   "execution_count": 18,
   "id": "0ef59e61",
   "metadata": {},
   "outputs": [
    {
     "name": "stdout",
     "output_type": "stream",
     "text": [
      "[1, 2, 3]\n"
     ]
    }
   ],
   "source": [
    "L = [1,2,3,5]\n",
    "\n",
    "L.pop()\n",
    "#L.pop()\n",
    "print(L)"
   ]
  },
  {
   "cell_type": "markdown",
   "id": "678aa580",
   "metadata": {},
   "source": [
    "len/min/max/sorted"
   ]
  },
  {
   "cell_type": "code",
   "execution_count": 21,
   "id": "116104f3",
   "metadata": {},
   "outputs": [
    {
     "name": "stdout",
     "output_type": "stream",
     "text": [
      "4\n",
      "1\n",
      "4\n",
      "[4, 3, 2, 1]\n"
     ]
    }
   ],
   "source": [
    "L = [1,2,3,4]\n",
    "\n",
    "print(len(L))\n",
    "print(min(L))\n",
    "print(max(L))\n",
    "print(sorted(L,reverse=True))"
   ]
  },
  {
   "cell_type": "markdown",
   "id": "60527cb7",
   "metadata": {},
   "source": [
    "count"
   ]
  },
  {
   "cell_type": "code",
   "execution_count": 22,
   "id": "f5485a4c",
   "metadata": {},
   "outputs": [
    {
     "data": {
      "text/plain": [
       "2"
      ]
     },
     "execution_count": 22,
     "metadata": {},
     "output_type": "execute_result"
    }
   ],
   "source": [
    "L = [1,2,3,4,4,4,5,5]\n",
    "\n",
    "L.count(5)"
   ]
  },
  {
   "cell_type": "markdown",
   "id": "b63700ef",
   "metadata": {},
   "source": [
    "index"
   ]
  },
  {
   "cell_type": "code",
   "execution_count": 23,
   "id": "078334ba",
   "metadata": {},
   "outputs": [
    {
     "data": {
      "text/plain": [
       "1"
      ]
     },
     "execution_count": 23,
     "metadata": {},
     "output_type": "execute_result"
    }
   ],
   "source": [
    "L = [1,2,3,4,4,4,5,5]\n",
    "\n",
    "L.index(2)"
   ]
  },
  {
   "cell_type": "code",
   "execution_count": 40,
   "id": "6346374e",
   "metadata": {},
   "outputs": [
    {
     "name": "stdout",
     "output_type": "stream",
     "text": [
      "[0, 1, 2, 3, 4, 5, 6, 7, 8, 9, 10, 11, 12, 13, 14, 15, 16, 17, 18, 19]\n"
     ]
    }
   ],
   "source": [
    "d = list(range(20))  \n",
    "print(d)"
   ]
  }
 ],
 "metadata": {
  "kernelspec": {
   "display_name": "lenovobot",
   "language": "python",
   "name": "python3"
  },
  "language_info": {
   "codemirror_mode": {
    "name": "ipython",
    "version": 3
   },
   "file_extension": ".py",
   "mimetype": "text/x-python",
   "name": "python",
   "nbconvert_exporter": "python",
   "pygments_lexer": "ipython3",
   "version": "3.10.18"
  }
 },
 "nbformat": 4,
 "nbformat_minor": 5
}
